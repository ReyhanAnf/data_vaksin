{
 "cells": [
  {
   "cell_type": "markdown",
   "id": "c7127714",
   "metadata": {},
   "source": [
    "## "
   ]
  },
  {
   "cell_type": "code",
   "execution_count": 9,
   "id": "2b1cb1af",
   "metadata": {},
   "outputs": [],
   "source": [
    "import pandas as pd\n",
    "import matplotlib.pyplot as plt\n",
    "\n",
    "# Data\n",
    "data = pd.read_csv('jadwal_vaksin.csv')"
   ]
  },
  {
   "cell_type": "markdown",
   "id": "28fc2661",
   "metadata": {},
   "source": [
    "## Fitur"
   ]
  },
  {
   "cell_type": "code",
   "execution_count": 30,
   "id": "db9276f8",
   "metadata": {
    "scrolled": true
   },
   "outputs": [],
   "source": [
    "# Jumlah Siswa Kelas\n",
    "def jmls_kel(kelas, data=data):\n",
    "    print('*siswa yang ikut vaksin')\n",
    "    if kelas == 10:\n",
    "        x = data.loc[data['Kelas']==10].count()\n",
    "        print(f\"===~Jumlah Siswa Kelas 10 :{x['Kelas']}\")\n",
    "        return int(x['Kelas'])\n",
    "    elif kelas == 11:\n",
    "        xi = data.loc[data['Kelas']==11].count()\n",
    "        print(f\"===~Jumlah Siswa Kelas 11 :{xi['Kelas']}\")\n",
    "        return xi['Kelas']\n",
    "    elif kelas == 12:\n",
    "        xii = data.loc[data['Kelas']==12].count()\n",
    "        print(f\"===~Jumlah Siswa Kelas 12 :{xii['Kelas']}\")\n",
    "        return xii['Kelas']\n",
    "    elif kelas == 'semua':\n",
    "        semua = data['Kelas'].count()\n",
    "        print(f\"===~Jumlah Siswa :{semua}\")\n",
    "        return semua\n",
    "    else:\n",
    "        print('\\t_input (10/11/12/semua) saja_')\n",
    "\n",
    "#Frame Siswa\n",
    "def fram(kelas, data=data, bag=['Nama','Peminatan']):\n",
    "    if kelas == 10:\n",
    "        x = data.loc[data['Kelas'] == 10]\n",
    "        print('===KELAS 10===')\n",
    "        print(x[[bag]])\n",
    "        print('===\\n')\n",
    "    elif kelas == 11:\n",
    "        xi = data.loc[data['Kelas'] == 11]\n",
    "        print('===KELAS 11===')\n",
    "        print(xi[bag])\n",
    "        print('===\\n')\n",
    "    elif kelas == 12:\n",
    "        xii = data.loc[data['Kelas'] == 12]\n",
    "        print('===KELAS 12===')\n",
    "        print(xii[bag])\n",
    "        print('===\\n')\n",
    "    elif kelas == 'semua':\n",
    "        print('===SEMUA===')\n",
    "        semua = data\n",
    "        print(semua[bag])\n",
    "        print('===\\n')\n",
    "        return semua\n",
    "    else:\n",
    "        print('\\t_input (10/11/12/semua) saja_')\n",
    "\n",
    "#List Kecamatan\n",
    "def li_kec():\n",
    "    d = data.groupby('Kecamatan')['Nama'].count()\n",
    "    print(d)\n",
    "    return d\n",
    "\n",
    "#Fungsi Cari\n",
    "def cari(dt=data):\n",
    "    ik = int(input('Pilih Sesuai Key:\\n-Nama: 0\\n-Kelas: 1\\n-Peminatan: 2\\n-Desa: 3\\n-Kecamatan: 4\\n-NIK: 5\\n-No.Wa: 6\\n'))\n",
    "    k = ['Nama', 'Kelas', 'Peminatan', 'Desa', 'Kecamatan', 'NIK', 'No. Wa']\n",
    "    if ik == 6:\n",
    "        ycari = input('+62 (81239288393) ~ tdk perlu tulis 62 nya')\n",
    "    elif ik == 0:\n",
    "        ycari = input('Cari..(nama lengkap)')\n",
    "    else:\n",
    "        ycari = input('Cari..')\n",
    "\n",
    "    return dt.loc[dt[k[ik]] == ycari]"
   ]
  },
  {
   "cell_type": "code",
   "execution_count": 29,
   "id": "bf7c6b0c",
   "metadata": {
    "scrolled": true
   },
   "outputs": [
    {
     "name": "stdout",
     "output_type": "stream",
     "text": [
      "*siswa yang ikut vaksin\n",
      "===~Jumlah Siswa Kelas 10 :173\n",
      "===KELAS 10===\n",
      "                      Nama Peminatan\n",
      "0    Rijal Tri Hardiansyah    MIPA 1\n",
      "1        Refina Susiloyani    MIPA 1\n",
      "2        Reisya Ayu Kirana     IPS 2\n",
      "3              Daffa Argya    MIPA 3\n",
      "4       Rayhan fajri akbar    MIPA 1\n",
      "..                     ...       ...\n",
      "315         Naila Herliana    MIPA 2\n",
      "316   BERRYL ADZKA SARJITO    MIPA 1\n",
      "317            Sri Ningsih    MIPA 3\n",
      "318           ADITIA FAUZI     IPS 2\n",
      "319          Salma Syakira     IPS 5\n",
      "\n",
      "[173 rows x 2 columns]\n",
      "===\n",
      "\n"
     ]
    }
   ],
   "source": [
    "a = jmls_kel(10)\n",
    "fram(10)"
   ]
  }
 ],
 "metadata": {
  "kernelspec": {
   "display_name": "Python 3 (ipykernel)",
   "language": "python",
   "name": "python3"
  },
  "language_info": {
   "codemirror_mode": {
    "name": "ipython",
    "version": 3
   },
   "file_extension": ".py",
   "mimetype": "text/x-python",
   "name": "python",
   "nbconvert_exporter": "python",
   "pygments_lexer": "ipython3",
   "version": "3.8.3"
  }
 },
 "nbformat": 4,
 "nbformat_minor": 5
}
